{
 "cells": [
  {
   "cell_type": "markdown",
   "metadata": {},
   "source": [
    "# MACHINE LEARNING AND STATISTICS TASKS\n",
    "\n",
    "## 1. TASK 1\n",
    "\n",
    "Write a Python function called sqrt2 that calculates and\n",
    "prints to the screen the square root of 2 to 100 decimal places. Your code should\n",
    "not depend on any module from the standard library or otherwise. You should\n",
    "research the task first and include references and a description of your algorithm.\n",
    "\n",
    "### 1.1 RESEARCH\n",
    "\n",
    "The square root of a number $S$ is a number when multiplied by itself yields the number $S$.\n",
    "\n",
    "The most common methods to calculating the square root of a number are iterative, the principle involves two steps below:\n",
    "\n",
    "* Find a suitable starting seed value or guess.\n",
    "* Refine this value using an iterative calculation until a criteria is met to terminate.\n",
    "\n",
    "#### Initial Seed Value Estimation\n",
    "\n",
    "The initial seed value must be a positive non-zero number, it should be between 1 and $S$ the number we are trying to find the square root off. There are many methods of estimating this number because the better the estimate the less iterations the algorithm will have to perform to find the square root.\n",
    "\n",
    "For estimating the seed value $x$ for approximating the square root of $ S = 2$ and the fact that the number $x$ should be 0 < $x$ < 2 then we will choose 1. \n",
    "\n",
    "\n",
    "The most common of this type of methods is the Newton Rampson approximation. This uses a mathematical formula to approximate the square root of a number this formula is run many times or iterations to get the square root approximation. The formula is given below.\n",
    "\n",
    "\n",
    "\n",
    "Reference: https://medium.com/@surajregmi/how-to-calculate-the-square-root-of-a-number-newton-raphson-method-f8007714f64\n",
    "\n",
    "To get the answer required the Python math function is used below to get the answer we need to approximate.\n",
    "\n",
    "\n",
    "\n",
    "\n",
    "From the question above the task involved writing a program to get the square root of the number two without using any of the Python library functions such as math.sqrt. The math.sqrt function can be used to check the answer to the final solution. \n",
    "\n",
    "Reference: https://realpython.com/python-square-root-function/\n",
    "\n",
    "To calculate the sqrt root of a number to a certain number of decimal places the function getcontext() can be used to set the value from defualt 28 decimal to the desired number of decimal places in this case 100\n",
    "\n",
    "Reference: https://www.geeksforgeeks.org/setting-precision-in-python-using-decimal-module/amp/?ref=rp\n",
    "\n"
   ]
  },
  {
   "cell_type": "markdown",
   "metadata": {},
   "source": [
    "### 1.2 DEVELOPMENT\n",
    "\n"
   ]
  },
  {
   "cell_type": "code",
   "execution_count": 12,
   "metadata": {},
   "outputs": [
    {
     "data": {
      "text/plain": [
       "1.4142135623730951"
      ]
     },
     "execution_count": 12,
     "metadata": {},
     "output_type": "execute_result"
    }
   ],
   "source": [
    "import math as m # Import Python Math library as m\n",
    " \n",
    "m.sqrt(2) #Run the function sqrt from the math library passing in 2"
   ]
  },
  {
   "cell_type": "markdown",
   "metadata": {},
   "source": [
    "The Python sqrt() function without changing the number of decimal places or precision of the output only gives the answer to 16 demimal places. To change this to 100 decimal places the following code can be run"
   ]
  },
  {
   "cell_type": "code",
   "execution_count": 2,
   "metadata": {},
   "outputs": [
    {
     "name": "stdout",
     "output_type": "stream",
     "text": [
      "The answer we need to approximate is:\n",
      " 1.4142135623730950488016887242096980785696718753769480731766797379907324784621070388503875343276415727\n"
     ]
    }
   ],
   "source": [
    "from decimal import * # Import decimal function\n",
    "getcontext().prec = 101 #set overall to 101 to get 100 decimal places after the decimal point\n",
    "ans = Decimal(2).sqrt() ## Run the Decimal function on sqrt(2) and assigned it to ans\n",
    "print(\"The answer we need to approximate is:\\n\",ans) # Print the Decimal answer\n"
   ]
  },
  {
   "cell_type": "markdown",
   "metadata": {},
   "source": [
    "There is an issue with floating point numbers if you assign the test variable to the answer we obtained with the Python maths function and print that variable we only get part of the variable i.e to 16 decimal places."
   ]
  },
  {
   "cell_type": "code",
   "execution_count": 3,
   "metadata": {},
   "outputs": [],
   "source": [
    "test = 1.4142135623730950488016887242096980785696718753769480731766797379907324784621070388503875343276415727"
   ]
  },
  {
   "cell_type": "code",
   "execution_count": 4,
   "metadata": {},
   "outputs": [
    {
     "name": "stdout",
     "output_type": "stream",
     "text": [
      "1.4142135623730951\n"
     ]
    }
   ],
   "source": [
    "print(test)"
   ]
  },
  {
   "cell_type": "markdown",
   "metadata": {},
   "source": [
    "To get a square root of a number to 100 decimal places you need to multiple the number by 10 ** 200 this will yield an integer variable for using in the calcaluation\n",
    "\n",
    "https://stackoverflow.com/questions/64295245/how-to-get-the-square-root-of-a-number-to-100-decimal-places-without-using-any-l"
   ]
  },
  {
   "cell_type": "markdown",
   "metadata": {},
   "source": [
    "Newton Rampson approximation formula is given by the following formula\n",
    "\n",
    "guess = (guess + $S$/guess)/2\n",
    "\n",
    "This calculation is run repeatly until the difference between the original number $S$ and the guess squared or guess^2 is less that 0.\n",
    "\n",
    "The python code for this formula for this is given below\n"
   ]
  },
  {
   "cell_type": "code",
   "execution_count": 5,
   "metadata": {},
   "outputs": [],
   "source": [
    "def sqrt2():\n",
    "    \n",
    "    x = 2 #Number that we want to find the square root off\n",
    "    \n",
    "    s = x * 10 ** 200 #This is a large enough integer so when the square root is calculated its is 100 decimal places\n",
    "    \n",
    "    guess = s//2 #This is the initial guess\n",
    "    \n",
    "    while s - (guess**2) < 0: #while the guess or approximation squared less the original number is greater than zero continue with the approximation calculation\n",
    "        guess = (guess + s//guess)//2\n",
    "    \n",
    "    guess = str(guess) # Convert varible to string\n",
    "    print(guess[0]+\".\"+guess[1:]) # Print out string with dot in the correct place\n",
    "    \n",
    "  \n",
    "        "
   ]
  },
  {
   "cell_type": "code",
   "execution_count": 6,
   "metadata": {},
   "outputs": [
    {
     "name": "stdout",
     "output_type": "stream",
     "text": [
      "1.4142135623730950488016887242096980785696718753769480731766797379907324784621070388503875343276415727\n"
     ]
    }
   ],
   "source": [
    "sqrt2()"
   ]
  },
  {
   "attachments": {},
   "cell_type": "markdown",
   "metadata": {},
   "source": [
    "## 2. TASK 2\n",
    "\n",
    "The Chi-squared test for independence is a statistical\n",
    "hypothesis test like a t-test. It is used to analyse whether two categorical variables\n",
    "are independent. The Wikipedia article gives the table below as an example [4],\n",
    "stating the Chi-squared value based on it is approximately 24.6. Use scipy.stats\n",
    "to verify this value and calculate the associated p value. You should include a short\n",
    "note with references justifying your analysis in a markdown cell.\n",
    "\n",
    "<img src=\"Images/collars_array_table.JPG\" alt=\"Table\" style=\"width: 500px;\"/>\n",
    "\n",
    "\n",
    "\n",
    "\n",
    "\n",
    "### 2.1 RESEARCH\n",
    "\n",
    "The Chi-squared test for independence is a statistical hypothesis test for analysing whether two categorical variables are independent of each other. [[Ref:2.1]]  First of all the hypotheses between the two categorical variables is established. So it will be for example that the number if categorical variable-X will depend on the the variable-Y. There will be the null hypotheses that states that there is no dependency between the two categorical variables variable-Y and variable-Y. \n",
    "\n",
    "[Ref:2.1]: https://en.wikipedia.org/wiki/Chi-squared_test#cite_note-Pearson1900-1 \"Chi-squared test\"\n",
    "\n",
    "\n",
    "An example of this in a class of students that either passed or failed a course, is passing or failing the course dependent on attending the course. The data in the table below gives the pass/fail versus the attendance statistics. [[Ref:2.2]] \n",
    "\n",
    "[Ref:2.2]: https://www.ling.upenn.edu/~clight/chisquared.htm \"Tutorial: Pearson's Chi-square Test for Independence\"\n",
    "\n",
    "\n",
    "\n",
    "<img src=\"Images/course_stats.JPG\" alt=\"Course Statistics\" style=\"width: 300px;\"/>\n",
    "\n",
    "\n",
    "The categorical variables in this example are \n",
    "\n",
    "* Exam Result\n",
    "* Attendance.\n",
    "\n",
    "The NULL hypotheses in this case is the exam result is not dependent on attendance of the course in other words the two categorical variables are independent of each other.\n",
    "\n",
    "The Chi-squared tests compares the observed data in the table above to the expected data if the variables were independent. If the observed data doesn't fit the model of the expected data then this increases the likehood that the variables are dependent on one another and the NULL hypotheses can be rejected.\n",
    "\n",
    "The degrees of freedom ($DF$) tell us how many numbers in the grid are independent. For a Chi-square grid, the degrees of freedom can be said to be the number of cells you need to fill in before, given the totals in the margins. \n",
    "\n",
    "The degrees of freedom for a Chi-square grid are equal to the number of rows minus one times the number of columns minus one that is, (R-1)*(C-1). In the class example above, the degrees of independence are therefore (2-1)*(2-1), or 1! \n",
    "\n",
    "Once the Chi-square value is calculated, you use this number and the degrees of freedom to calculate the probability, or $\\rho-value$, of independence. \n",
    "\n",
    "The observed class statistics below is given including totals.\n",
    "\n",
    "<img src=\"Images/course_stats_totalv2.JPG\" alt=\"Course Statistics Total\" style=\"width: 300px;\"/>\n",
    "\n",
    "We can caluculate the expected value for each cell using the following formula below. \n",
    "\n",
    "\n",
    "<br/>\n",
    "\n",
    "$$E=\\dfrac{Total_R \\times Total_C}{Total}$$\n",
    "\n",
    "<br/>\n",
    "\n",
    "The first value in Row 1 Column 1 is\n",
    "\n",
    "<br/>\n",
    "\n",
    "$$E = \\dfrac{31 \\times 33}{54}$$\n",
    "\n",
    "<br/>\n",
    "\n",
    "$$E = 18.95$$\n",
    "\n",
    "<br/>\n",
    "\n",
    "Each cell's expcted value is therefore calculated using the formula above. The **expected** values assuming the two categorical variables are independent is given in the table below.\n",
    "\n",
    "\n",
    "<img src=\"Images/course_stats_expected.JPG\" alt=\"Course Statistics\" style=\"width: 300px;\"/>\n",
    "<br/>\n",
    "Once the expected table values are calculated the Chi-squared value is calculated using the following formula below\n",
    "\n",
    "$$ X^2 = \\sum_{i=1}^{n} \\dfrac {(O_i - E_i)^2}{E_i} $$\n",
    "<br/>\n",
    "$$ X^2 = \\dfrac{(25 - 18.95)^2}{18.95} + \\dfrac{(6 - 12.06)^2}{12.06} + \\dfrac{(8 - 14.06)^2}{14.06} + \\dfrac{(15 - 8.95)^2}{8.95} $$\n",
    "<br/>\n",
    "$$ X^2 = 11.68 $$\n",
    "\n",
    "#### $\\rho-value$\n",
    "\n",
    "\n",
    "https://en.wikipedia.org/wiki/P-value\n",
    "The $\\rho-value$ is the probability of obtaining test results at least as extreme as the results actually observed, under the assumption that the null hypothesis is correct. This can be calculated by a $\\rho-value$ [[Ref: 2.3]] \n",
    "\n",
    "[Ref: 2.3]: https://en.wikipedia.org/wiki/P-value \"Wikipedia P-value\"\n",
    "\n",
    "The $\\rho-value$ can be calculated by looking up a table or by using a $\\rho-value$ calculator [[Ref: 2.4]]\n",
    "\n",
    "[Ref: 2.4]: https://www.mathsisfun.com/data/chi-square-calculator.html \"Chi-Square Calculator\"\n",
    "\n",
    "\n",
    "\n"
   ]
  },
  {
   "cell_type": "markdown",
   "metadata": {},
   "source": [
    "### 2.2 DEVELOPMENT\n",
    "\n",
    "To verify the chi2 test from the data given in the question the following reference was used to do a statistical analysis on the number you get when throwing a dice\n",
    "[ref]: https://towardsdatascience.com/running-chi-square-tests-in-python-with-die-roll-data-b9903817c51b \"Running Chi-Square Tests with Die Roll Data in Python\""
   ]
  },
  {
   "cell_type": "code",
   "execution_count": 11,
   "metadata": {},
   "outputs": [
    {
     "name": "stdout",
     "output_type": "stream",
     "text": [
      "[[ 90  60 104  95]\n",
      " [ 30  50  51  20]\n",
      " [ 30  40  45  35]]\n"
     ]
    }
   ],
   "source": [
    "import numpy as np\n",
    "\n",
    "# The first step is to take the data and make three arrays with four of the collar colour categories from the samples A to D\n",
    "\n",
    "white_collar = [90, 60, 104, 95]\n",
    "blue_collar = [30, 50, 51, 20]\n",
    "no_collar = [30, 40, 45, 35]\n",
    "\n",
    "collars = np.array([white_collar, blue_collar, no_collar]) #Construct the numpy array with the three arrays \n",
    "\n",
    "print(collars)\n"
   ]
  },
  {
   "cell_type": "code",
   "execution_count": 8,
   "metadata": {},
   "outputs": [
    {
     "data": {
      "text/plain": [
       "(24.5712028585826,\n",
       " 0.0004098425861096696,\n",
       " 6,\n",
       " array([[ 80.53846154,  80.53846154, 107.38461538,  80.53846154],\n",
       "        [ 34.84615385,  34.84615385,  46.46153846,  34.84615385],\n",
       "        [ 34.61538462,  34.61538462,  46.15384615,  34.61538462]]))"
      ]
     },
     "execution_count": 8,
     "metadata": {},
     "output_type": "execute_result"
    }
   ],
   "source": [
    "from scipy import stats\n",
    "\n",
    "stats.chi2_contingency(collars)"
   ]
  },
  {
   "cell_type": "markdown",
   "metadata": {},
   "source": [
    "From the output above we can see that the following values are calculated $\\chi^2$, $\\rho-value$ and Degrees of Freedom ($DF$)\n",
    "\n",
    "$\\chi^2$ = 24.57 or 24.6<br/>\n",
    "$\\rho-value$ = 0.00041<br/>\n",
    "$DF$ = 6\n",
    "\n",
    "The expected array values that is calculated is given below, if the variables were independent. This array is given below rounded to whole numbers for clarity\n",
    "\n",
    " array([[ 81,  81, 107,  81],\n",
    "        [ 35,  35,  46,  35],\n",
    "        [ 35,  35,  46,  35]]))\n",
    "        \n",
    "This is worked back in to the original arrays for a visual comparsion\n",
    "\n",
    "**Original Given Values** <br/>\n",
    "white_collar = [90, 60, 104, 95]<br/>\n",
    "blue_collar = [30, 50, 51, 20]<br/>\n",
    "no_collar = [30, 40, 45, 35]<br/>\n",
    "\n",
    "**Expected Calculated Values if the variables were independent**<br/>\n",
    "white_collar = [81, 81, 107, 81]<br/>\n",
    "blue_collar = [35, 35, 46, 35]<br/>\n",
    "no_collar = [35, 35, 46, 35]<br/>\n",
    "\n",
    "\n",
    "The test for independence is the probably that the $\\chi^2$ value 24.6 or higher is the $\\rho-value$ which is 0.00041 or 0.041% which is extremely low. Therefore we would have to reject the hypothesis that the values for the variables are independent\n",
    "\n",
    "        "
   ]
  },
  {
   "cell_type": "markdown",
   "metadata": {},
   "source": [
    "This is [1][Chile]\n",
    "\n",
    "[chile]: http://en.wikipedia.org/wiki/Chile \"Wikipedia Article About Chile\"\n",
    "\n",
    "\n",
    "\n",
    "[Here's a link to the section TASK 2 REFERENCES](#TASK-2-REFERENCES)"
   ]
  },
  {
   "cell_type": "code",
   "execution_count": null,
   "metadata": {},
   "outputs": [],
   "source": []
  },
  {
   "cell_type": "markdown",
   "metadata": {},
   "source": [
    "There are two Hypoteses in the test for independence of the variables \n",
    "\n",
    "Independence = There is no dependency between the categorical variables in the dataset given i.e the values of the variables are independent of each other.\n",
    "\n",
    "Dependence = There is a dependency between the values of the variables.\n",
    "\n",
    "The Chi-square tests takes the values of the variables and calculates the expected values if the values were truly independent and then calculates the $\\chi^2$, $\\rho-value$ and the Degrees of Freedom ($DF$)"
   ]
  },
  {
   "cell_type": "markdown",
   "metadata": {},
   "source": [
    "### 2.3 REFERENCES\n",
    "<br/>\n",
    "[Ref 2.1]: (https://en.wikipedia.org/wiki/Chi-squared_test#cite_note-Pearson1900-1 \"Chi-squared test\")\n",
    "\n",
    "[Ref: 2.2]: (https://www.ling.upenn.edu/~clight/chisquared.htm \"Tutorial: Pearson's Chi-square Test for Independence\")\n",
    "\n",
    "[Ref: 2.3]: (https://en.wikipedia.org/wiki/P-value \"$\\rho-value$\")\n",
    "\n",
    "[Ref: 2.4]:(https://www.mathsisfun.com/data/chi-square-calculator.html \"Chi-Square Calculator\")\n",
    "<br/>"
   ]
  },
  {
   "cell_type": "markdown",
   "metadata": {},
   "source": [
    "## 3. TASK 3\n",
    "\n",
    "The standard deviation of an array of numbers x is\n",
    "calculated using numpy as np.sqrt(np.sum((x - np.mean(x))**2)/len(x)) .\n",
    "However, Microsoft Excel has two different versions of the standard deviation\n",
    "calculation, STDEV.P and STDEV.S . The STDEV.P function performs the above\n",
    "calculation but in the STDEV.S calculation the division is by len(x)-1 rather\n",
    "than len(x) . Research these Excel functions, writing a note in a Markdown cell\n",
    "about the difference between them. Then use numpy to perform a simulation\n",
    "demonstrating that the STDEV.S calculation is a better estimate for the standard\n",
    "deviation of a population when performed on a sample. Note that part of this task\n",
    "is to figure out the terminology in the previous sentence.\n",
    "\n",
    "STDEV.P is the standard deviation of the entire population or the entire number of samples in a dataset. STDEV.S is the standard deviation of a sample of the population of a subset of the given samples.\n",
    "\n",
    "The formula for STDEV.P is below\n",
    "\n",
    "The formula for STDEV.S is below\n",
    "\n"
   ]
  },
  {
   "cell_type": "code",
   "execution_count": 10,
   "metadata": {},
   "outputs": [],
   "source": [
    "#Create array\n",
    "#heights = np.random.randint(0, 86, 100)\n",
    "#pop.sort()\n",
    "#print(pop)\n",
    "#print(f\"Values range from a minimum of {pop[0]} to {pop[-1]}, with a mean of {sum(pop)/len(pop):.1f}, and a population standard deviation of {np.std(pop):.1f}.\")\n",
    "\n"
   ]
  },
  {
   "cell_type": "code",
   "execution_count": null,
   "metadata": {},
   "outputs": [],
   "source": []
  }
 ],
 "metadata": {
  "kernelspec": {
   "display_name": "Python 3",
   "language": "python",
   "name": "python3"
  },
  "language_info": {
   "codemirror_mode": {
    "name": "ipython",
    "version": 3
   },
   "file_extension": ".py",
   "mimetype": "text/x-python",
   "name": "python",
   "nbconvert_exporter": "python",
   "pygments_lexer": "ipython3",
   "version": "3.7.4"
  }
 },
 "nbformat": 4,
 "nbformat_minor": 2
}
