{
 "cells": [
  {
   "cell_type": "markdown",
   "metadata": {},
   "source": [
    "# MACHINE LEARNING AND STATISTICS TASKS\n",
    "\n",
    "## TASK 1\n",
    "\n",
    "Write a Python function called sqrt2 that calculates and\n",
    "prints to the screen the square root of 2 to 100 decimal places. Your code should\n",
    "not depend on any module from the standard library1 or otherwise. You should\n",
    "research the task first and include references and a description of your algorithm.\n",
    "\n",
    "### RESEARCH\n",
    "\n",
    "The square root of a number $S$ is a number when multiplied by itself yields the number $S$.\n",
    "\n",
    "The most common methods to calculating the square root of a number are iterative, the principle involves two steps below:\n",
    "\n",
    "* Find a suitable starting seed value or guess.\n",
    "* Refine this value using an iterative calculation until a criteria is met to terminate.\n",
    "\n",
    "#### Initial Seed Value Estimation\n",
    "\n",
    "The initial seed value must be a positive non-zero number, it should be between 1 and $S$ the number we are trying to find the square root off. There are many methods of estimating this number because the better the estimate the less iterations the algorithm will have to perform to find the square root.\n",
    "\n",
    "For estimating the seed value $x$ for approximating the square root of $ S = 2$ and the fact that the number $x$ should be 0 < $x$ < 2 then we will choose 1. \n",
    "\n",
    "\n",
    "The most common of this type of methods is the Newton Rampson approximation. This uses a mathematical formula to approximate the square root of a number this formula is run many times or iterations to get the square root approximation. The formula is given below.\n",
    "\n",
    "\n",
    "\n",
    "Reference: https://medium.com/@surajregmi/how-to-calculate-the-square-root-of-a-number-newton-raphson-method-f8007714f64\n",
    "\n",
    "To get the answer required the Python math function is used below to get the answer we need to approximate.\n",
    "\n",
    "\n",
    "\n",
    "\n",
    "From the question above the task involved writing a program to get the square root of the number two without using any of the Python library functions such as math.sqrt. The math.sqrt function can be used to check the answer to the final solution. \n",
    "\n",
    "Reference: https://realpython.com/python-square-root-function/\n",
    "\n",
    "To calculate the sqrt root of a number to a certain number of decimal places the function getcontext() can be used to set the value from defualt 28 decimal to the desired number of decimal places in this case 100\n",
    "\n",
    "https://www.geeksforgeeks.org/setting-precision-in-python-using-decimal-module/amp/?ref=rp\n",
    "\n"
   ]
  },
  {
   "cell_type": "code",
   "execution_count": 1,
   "metadata": {},
   "outputs": [],
   "source": [
    "import math as m # Import Python Math library as m\n",
    " \n",
    "m.sqrt(2) #Run the function sqrt from the math library passing in 2"
   ]
  },
  {
   "cell_type": "markdown",
   "metadata": {},
   "source": [
    "The Python sqrt() function without changing the number of decimal places or precision of the output only gives the answer to 16 demimal places. To change this to 100 decimal places the following code can be run"
   ]
  },
  {
   "cell_type": "code",
   "execution_count": 2,
   "metadata": {},
   "outputs": [],
   "source": [
    "from decimal import * # Import decimal function\n",
    "getcontext().prec = 101 #set overall to 101 to get 100 decimal places after the decimal point\n",
    "ans = Decimal(2).sqrt() ## Run the Decimal function on sqrt(2) and assigned it to ans\n",
    "print(\"The answer we need to approximate is:\\n\",ans) # Print the Decimal answer\n"
   ]
  },
  {
   "cell_type": "markdown",
   "metadata": {},
   "source": [
    "There is an issue with floating point numbers if you assign the test variable to the answer we obtained with the Python maths function and print that variable we only get part of the variable i.e to 16 decimal places."
   ]
  },
  {
   "cell_type": "code",
   "execution_count": 3,
   "metadata": {},
   "outputs": [],
   "source": [
    "test = 1.4142135623730950488016887242096980785696718753769480731766797379907324784621070388503875343276415727"
   ]
  },
  {
   "cell_type": "code",
   "execution_count": 4,
   "metadata": {},
   "outputs": [
    {
     "name": "stdout",
     "output_type": "stream",
     "text": [
      "1.4142135623730951\n"
     ]
    }
   ],
   "source": [
    "print(test)"
   ]
  },
  {
   "cell_type": "markdown",
   "metadata": {},
   "source": [
    "To get a square root of a number to 100 decimal places you need to multiple the number by 10 ** 200 this will yield an integer variable for usingin the calcaluation\n",
    "\n",
    "https://stackoverflow.com/questions/64295245/how-to-get-the-square-root-of-a-number-to-100-decimal-places-without-using-any-l"
   ]
  },
  {
   "cell_type": "markdown",
   "metadata": {},
   "source": [
    "Newton Rampson approximation formula is given by the following formula\n",
    "\n",
    "guess = (guess + $S$/guess)/2\n",
    "\n",
    "This calculation is run repeatly until the difference between the original number $S$ and the guess squared or guess^2 is less that 0.\n",
    "\n",
    "The python code for this formula for this is given below\n"
   ]
  },
  {
   "cell_type": "code",
   "execution_count": 5,
   "metadata": {},
   "outputs": [],
   "source": [
    "def sqrt2():\n",
    "    \n",
    "    x = 2 #Number that we want to find the square root off\n",
    "    \n",
    "    s = x * 10 ** 200 #This is a large enough integer so when the square root is calculated its is 100 decimal places\n",
    "    \n",
    "    guess = s//2 #This is the initial guess\n",
    "    \n",
    "    while s - (guess**2) < 0: #while the guess or approximation squared less the original number is greater than zero continue with the approximation calculation\n",
    "        guess = (guess + s//guess)//2\n",
    "    \n",
    "    guess = str(guess) # Convert varible to string\n",
    "    print(guess[0]+\".\"+guess[1:]) # Print out string with dot in the correct place\n",
    "    \n",
    "  \n",
    "        "
   ]
  },
  {
   "cell_type": "code",
   "execution_count": 6,
   "metadata": {},
   "outputs": [
    {
     "name": "stdout",
     "output_type": "stream",
     "text": [
      "1.4142135623730950488016887242096980785696718753769480731766797379907324784621070388503875343276415727\n"
     ]
    }
   ],
   "source": [
    "sqrt2()"
   ]
  },
  {
   "cell_type": "markdown",
   "metadata": {},
   "source": [
    "## TASK 2\n",
    "\n",
    "The Chi-squared test for independence is a statistical\n",
    "hypothesis test like a t-test. It is used to analyse whether two categorical variables\n",
    "are independent. The Wikipedia article gives the table below as an example [4],\n",
    "stating the Chi-squared value based on it is approximately 24.6. Use scipy.stats\n",
    "to verify this value and calculate the associated p value. You should include a short\n",
    "note with references justifying your analysis in a markdown cell.\n",
    "\n",
    "<img src=\"Images/collars_array_table.JPG\" alt=\"Table\" style=\"width: 500px;\"/>\n",
    "\n",
    "\n",
    "\n",
    "\n",
    "\n",
    "### RESEARCH\n",
    "\n",
    "To verify the chi2 test from the data given in the question the following reference was used to do a statistical analysis on the number you get when throwing a dice\n",
    "Ref: https://towardsdatascience.com/running-chi-square-tests-in-python-with-die-roll-data-b9903817c51b\n"
   ]
  },
  {
   "cell_type": "code",
   "execution_count": 2,
   "metadata": {},
   "outputs": [
    {
     "name": "stdout",
     "output_type": "stream",
     "text": [
      "[[ 90  60 104  95]\n",
      " [ 30  50  51  20]\n",
      " [ 30  40  45  35]]\n"
     ]
    }
   ],
   "source": [
    "import numpy as np\n",
    "\n",
    "# The first step is to take the data and make three arrays of four of the collar colour categories from the samples A to D\n",
    "\n",
    "white_collar = [90, 60, 104, 95]\n",
    "blue_collar = [30, 50, 51, 20]\n",
    "no_collar = [30, 40, 45, 35]\n",
    "\n",
    "collars = np.array([white_collar, blue_collar, no_collar]) #Construct the numpy array with the three arrays \n",
    "\n",
    "print(collars)\n"
   ]
  },
  {
   "cell_type": "code",
   "execution_count": 3,
   "metadata": {},
   "outputs": [
    {
     "data": {
      "text/plain": [
       "(24.5712028585826,\n",
       " 0.0004098425861096696,\n",
       " 6,\n",
       " array([[ 80.53846154,  80.53846154, 107.38461538,  80.53846154],\n",
       "        [ 34.84615385,  34.84615385,  46.46153846,  34.84615385],\n",
       "        [ 34.61538462,  34.61538462,  46.15384615,  34.61538462]]))"
      ]
     },
     "execution_count": 3,
     "metadata": {},
     "output_type": "execute_result"
    }
   ],
   "source": [
    "from scipy import stats\n",
    "\n",
    "stats.chi2_contingency(collars)"
   ]
  },
  {
   "cell_type": "markdown",
   "metadata": {},
   "source": [
    "From the output above we can see that the following values are calculated $\\chi^2$, $\\rho-value$ and Degrees of Freedom ($DF$)\n",
    "\n",
    "$\\chi^2$ = 24.57 or 24.6<br/>\n",
    "$\\rho-value$ = 0.00041<br/>\n",
    "$DF$ = 6\n",
    "\n",
    "The expected array values that is calculated is given below, if the variables were independent. This array is given below rounded to whole numbers for clarity\n",
    "\n",
    " array([[ 81,  81, 107,  81],\n",
    "        [ 35,  35,  46,  35],\n",
    "        [ 35,  35,  46,  35]]))\n",
    "        \n",
    "This is worked back in to the original arrays for a visual comparsion\n",
    "\n",
    "**Original Given Values** <br/>\n",
    "white_collar = [90, 60, 104, 95]<br/>\n",
    "blue_collar = [30, 50, 51, 20]<br/>\n",
    "no_collar = [30, 40, 45, 35]<br/>\n",
    "\n",
    "**Expected Calculated Values if the variables were independent**<br/>\n",
    "white_collar = [81, 81, 107, 81]<br/>\n",
    "blue_collar = [35, 35, 46, 35]<br/>\n",
    "no_collar = [35, 35, 46, 35]<br/>\n",
    "\n",
    "\n",
    "The test for independence is the probably that the $\\chi^2$ value 24.6 or higher is the $\\rho-value$ which is 0.00041 or 0.041% which is extremely low. Therefore we would have to reject the hypothesis that the values fo the variables are independent\n",
    "\n",
    "        "
   ]
  },
  {
   "cell_type": "code",
   "execution_count": null,
   "metadata": {},
   "outputs": [],
   "source": []
  },
  {
   "cell_type": "code",
   "execution_count": 4,
   "metadata": {},
   "outputs": [
    {
     "data": {
      "text/plain": [
       "(11.942092624356777, 0.0177871146098607, 4, array([[ 5.5 ,  5.5 , 11.  ],\n",
       "        [ 6.25,  6.25, 12.5 ],\n",
       "        [13.25, 13.25, 26.5 ]]))"
      ]
     },
     "execution_count": 4,
     "metadata": {},
     "output_type": "execute_result"
    }
   ],
   "source": [
    "rh_longer = [11, 3, 8]\n",
    "lh_longer = [2, 9, 14]\n",
    "both_same = [12, 13, 28]\n",
    "\n",
    "hand_foot = np.array([rh_longer, lh_longer, both_same])\n",
    "\n",
    "stats.chi2_contingency(hand_foot)"
   ]
  },
  {
   "cell_type": "markdown",
   "metadata": {},
   "source": [
    "There are two Hypoteses in the test for independence of the variables \n",
    "\n",
    "Independence = There is no dependency between the categorical variables in the dataset given i.e the values of the variables are independent of each other.\n",
    "\n",
    "Dependence = There is a dependency between the values of the variables.\n",
    "\n",
    "The Chi-square tests takes the values of the variables and calculates the expected values if the values were truly independent and then calculates the $\\chi^2$, $\\rho-value$ and the Degrees of Freedom ($DF$)"
   ]
  },
  {
   "cell_type": "code",
   "execution_count": null,
   "metadata": {},
   "outputs": [],
   "source": []
  }
 ],
 "metadata": {
  "kernelspec": {
   "display_name": "Python 3",
   "language": "python",
   "name": "python3"
  },
  "language_info": {
   "codemirror_mode": {
    "name": "ipython",
    "version": 3
   },
   "file_extension": ".py",
   "mimetype": "text/x-python",
   "name": "python",
   "nbconvert_exporter": "python",
   "pygments_lexer": "ipython3",
   "version": "3.7.4"
  }
 },
 "nbformat": 4,
 "nbformat_minor": 2
}
