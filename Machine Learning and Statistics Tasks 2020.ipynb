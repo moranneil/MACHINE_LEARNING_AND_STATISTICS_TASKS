{
 "cells": [
  {
   "cell_type": "markdown",
   "metadata": {},
   "source": [
    "# MACHINE LEARNING AND STATISTICS TASKS\n",
    "\n",
    "# 1. TASK 1\n",
    "\n",
    "Write a Python function called _sqrt2_ that calculates and\n",
    "prints to the screen the square root of 2 to 100 decimal places. Your code should\n",
    "not depend on any module from the standard library or otherwise. You should\n",
    "research the task first and include references and a description of your algorithm.\n",
    "\n",
    "## 1.1 RESEARCH\n",
    "\n",
    "The square root of a number $S$ is a number when multiplied by itself yields the number $S$.\n",
    "\n",
    "The most common methods to calculating the square root of a number are iterative, the principle involves two steps below: [[Ref:1.1]]\n",
    "\n",
    "* Find a suitable starting seed value or guess.\n",
    "* Refine this value using an iterative calculation until a criteria is met to terminate. [[Ref:1.2]]\n",
    "\n",
    "[Ref:1.1]: https://en.wikipedia.org/wiki/Methods_of_computing_square_roots \"Methods of computing square roots\"\n",
    "\n",
    "[Ref:1.2]: https://medium.com/@surajregmi/how-to-calculate-the-square-root-of-a-number-newton-raphson-method-f8007714f64 \"How to Calculate the Square Root of a Number? — Newton-Raphson Method\"\n",
    "\n",
    "\n",
    "\n",
    "Newton’s method makes use of the idea to approximate the solutions of $f(x)=0$. By drawing a graph of $f$, we can estimate a root of $f(x)=0$. We can call this estimate ${x}_{0}$. We then draw the tangent line to $f$ at ${x}_{0}$. If ${f}^{\\prime }({x}_{0})\\ne 0$, this tangent line intersects the x-axis at some point $({x}_{1},0)$. Now let ${x}_{1}$ be the next approximation to the actual root. Typically, ${x}_{1}$ is closer than ${x}_{0}$ to an actual root. Next we draw the tangent line to $f$ at ${x}_{1}$. If ${f}^{\\prime }({x}_{1})\\ne 0$, this tangent line also intersects the x-axis, producing another approximation, ${x}_{2}$. We continue in this way, deriving a list of approximations: ${x}_{0},{x}_{1},{x}_{2}\\text{,…}$. Typically, the numbers ${x}_{0},{x}_{1},{x}_{2}\\text{,…}$ quickly approach an actual root $x*$, as shown in the following diagram. \n",
    "\n",
    "\n",
    "![Image](Images/newton_graph.JPG_2.JPG \"Newton Method\")\n",
    "\n",
    "\n",
    "\n",
    "\n",
    "Let us look at how to calculate the approximations ${x}_{0},{x}_{1},{x}_{2}\\text{,…}$. If ${x}_{0}$ is our first approximation, the approximation ${x}_{1}$ is defined by letting $({x}_{1},0)$ be the x-intercept of the tangent line to $f$ at ${x}_{0}$. The equation of this tangent line is given by\n",
    "\n",
    "\n",
    "$$y=f({x}_{0})+{f}^{\\prime }({x}_{0})(x-{x}_{0})$$\n",
    "\n",
    "Therefore, ${x}_{1}$ must satisfy\n",
    "\n",
    "$$f({x}_{0})+{f}^{\\prime }({x}_{0})({x}_{1}-{x}_{0})=0$$\n",
    "\n",
    "Solving this equation for ${x}_{1}$, we conclude that\n",
    "\n",
    "$${x}_{1}={x}_{0}-\\frac{f({x}_{0})}{f\\prime ({x}_{0})}$$\n",
    "\n",
    "Similarly, the point $({x}_{2},0)$ is the x-intercept of the tangent line to $f$ at ${x}_{1}$. Therefore, ${x}_{2}$ satisfies the equation\n",
    "\n",
    "$${x}_{2}={x}_{1}-\\frac{f({x}_{1})}{f\\prime ({x}_{1})}$$\n",
    "\n",
    "In general, for $n>0$,${x}_{n}$ satisfies\n",
    "\n",
    "$${x}_{n}={x}_{n-1}-\\frac{f({x}_{n-1})}{f\\prime ({x}_{n-1})}$$\n",
    "\n",
    "<br/>\n",
    "\n",
    "This sample calculation of using Newton’s method to approximate $\\sqrt{2}$. Let $f(x)={x}^{2}-2$, let ${x}_{0}=2$, and calculate ${x}_{1},{x}_{2},{x}_{3},{x}_{4},{x}_{5}$. (We note that since $f(x)={x}^{2}-2$ has a zero at $\\sqrt{2}$, the initial value ${x}_{0}=2$ is a reasonable choice to approximate $\\sqrt{2}.)$\n",
    "\n",
    "For $f(x)={x}^{2}-2,{f}^{\\prime }(x)=2x$, we know that\n",
    "\n",
    "![Image](Images/Newtons_Formula.JPG \"Newton Formula\")\n",
    "\n",
    "\n",
    "Applying the numbers to the formula and perform the iterations five times from the initial guess ${x}_{0} = 2$\n",
    "\n",
    "\n",
    "![Image](Images/Newtons_Formula_with_values.JPG \"Newton Formula with Values\")\n",
    "\n",
    "\n",
    "It can be seen that ${x}_{4}$ and ${x}_{5}$ are the same value so the approximation has been reached. The graph below illustrates the tangent line approach the $\\sqrt2$ value for each successive iteration ${x}_{1},{x}_{2},{x}_{3},{x}_{4},{x}_{5}$ [[Ref:1.3]]\n",
    "\n",
    "[Ref:1.3]: https://opentextbc.ca/calculusv1openstax/chapter/newtons-method/ \"Newton’s Method\"\n",
    "\n",
    "![Image](Images/newton_graph.JPG_SQRT-of-2.JPG \"Newton Method for square root of 2 example\")\n",
    "\n",
    "\n",
    "\n",
    "It can be seen that the square root approximation approaches the correct answer with each iteration. This will be used to calculate the square root using Python standard  library functions in the next section.\n",
    "\n"
   ]
  },
  {
   "cell_type": "markdown",
   "metadata": {},
   "source": [
    "## 1.2 DEVELOPMENT\n",
    "\n",
    "From the question above the task involved writing a program to get the square root of the number two without using any of the Python library functions such as math.sqrt. The math.sqrt function can be used to check the answer to the final solution. [[Ref:1.4]]\n",
    "\n",
    "[Ref:1.4]: https://realpython.com/python-square-root-function/ \"The Python Square Root Function\"\n",
    "\n",
    "To calculate the sqrt root of a number to a certain number of decimal places the function getcontext() can be used to set the value from defualt 28 decimal to the desired number of decimal places in this case 100. [[Ref:1.5]]\n",
    "\n",
    "[Ref:1.5]: https://www.geeksforgeeks.org/setting-precision-in-python-using-decimal-module/amp/?ref=rp \"Setting Precision in Python Using Decimal Module\""
   ]
  },
  {
   "cell_type": "code",
   "execution_count": 34,
   "metadata": {},
   "outputs": [
    {
     "data": {
      "text/plain": [
       "1.4142135623730951"
      ]
     },
     "execution_count": 34,
     "metadata": {},
     "output_type": "execute_result"
    }
   ],
   "source": [
    "import math as m # Import Python Math library as m\n",
    " \n",
    "m.sqrt(2) #Run the function sqrt from the math library passing in 2"
   ]
  },
  {
   "cell_type": "markdown",
   "metadata": {},
   "source": [
    "The Python sqrt() function without changing the number of decimal places or precision of the output only gives the answer to 16 demimal places. To change this to 100 decimal places the following code can be run"
   ]
  },
  {
   "cell_type": "code",
   "execution_count": 35,
   "metadata": {},
   "outputs": [
    {
     "name": "stdout",
     "output_type": "stream",
     "text": [
      "The answer we need to approximate is:\n",
      " 1.4142135623730950488016887242096980785696718753769480731766797379907324784621070388503875343276415727\n"
     ]
    }
   ],
   "source": [
    "from decimal import * # Import decimal function\n",
    "getcontext().prec = 101 #set overall to 101 to get 100 decimal places after the decimal point\n",
    "ans = Decimal(2).sqrt() ## Run the Decimal function on sqrt(2) and assigned it to ans\n",
    "print(\"The answer we need to approximate is:\\n\",ans) # Print the Decimal answer\n"
   ]
  },
  {
   "cell_type": "markdown",
   "metadata": {},
   "source": [
    "There is an issue with floating point numbers if you assign the test variable to the answer we obtained with the Python maths function and print that variable we only get part of the variable i.e to 16 decimal places."
   ]
  },
  {
   "cell_type": "code",
   "execution_count": 3,
   "metadata": {},
   "outputs": [],
   "source": [
    "#testfloat is assigned to the answer which Python selects as a floating point variable\n",
    "testfloat = 1.4142135623730950488016887242096980785696718753769480731766797379907324784621070388503875343276415727"
   ]
  },
  {
   "cell_type": "code",
   "execution_count": 4,
   "metadata": {},
   "outputs": [
    {
     "name": "stdout",
     "output_type": "stream",
     "text": [
      "1.4142135623730951\n"
     ]
    }
   ],
   "source": [
    "print(testfloat)"
   ]
  },
  {
   "cell_type": "markdown",
   "metadata": {},
   "source": [
    "### Convert Number N to Integer\n",
    "\n",
    "To overcome the floating point limitation the number \n",
    "\n",
    "$$N$$ \n",
    "\n",
    "will be converted it to an integer. Also the integer will have to be multiplied by a factor to\n",
    "\n",
    "$$N = N \\times 10^200 $$. \n",
    "\n",
    "The rational for this is explained using the earlier example of the $$\\sqrt4 = 2$$ \n",
    "\n",
    "$$\\sqrt400 = 20$$\n",
    "\n",
    "$$\\sqrt40000 = 200$$\n",
    "\n",
    "$$\\sqrt400000000 = 20000$$\n",
    "\n",
    "Taking this to get 100 decimal places in the answer the number needs to be multiplied by\n",
    "\n",
    "$$N \\times 10^{200}$$ \n"
   ]
  },
  {
   "cell_type": "markdown",
   "metadata": {},
   "source": [
    "Newton Rampson approximation formula is given by the following formula from the previous section where $n$ is the number we are trying to approximate the square root for and ${x}_{0}$ is the first guess which is 2. \n",
    "\n",
    "Note: the initial guess could be 1\n",
    "\n",
    "$$\\begin{array}{cc}\\hfill {x}_{1}=\\frac{({x}_{0}+\\frac{n}{{x}_{0}})}{2}\\hfill \\end{array}$$\n",
    "\n",
    "\n",
    "This calculation is run repeatly until the difference between the original number $S$ and the guess squared or $({x}_{n})^2$ is less than 0.\n",
    "\n",
    "The python code for this formula for this is given below\n"
   ]
  },
  {
   "cell_type": "code",
   "execution_count": 21,
   "metadata": {},
   "outputs": [],
   "source": [
    "def sqrt2():\n",
    "    \n",
    "    n = 2 #Number that we want to find the square root off\n",
    "    \n",
    "    s = n * 10 ** 200 #This is a large enough integer so when the square root is calculated its is 100 decimal places\n",
    "    \n",
    "    x_n = s #This is the initial guess\n",
    "    \n",
    "    while s - (x_n**2) < 0:\n",
    "        x_n = (x_n + s//x_n)//2 #Newton method formula to calculate new appromimation x_n+1 each time chaecking if it is close to the 2\n",
    "        #print(\"The value is x(n) is:\",x_n) #Test print statement\n",
    "    \n",
    "    x_n = str(x_n) # Convert variable to string\n",
    "    print(x_n[0]+\".\"+x_n[1:]) # Print out string with dot in the correct place\n",
    "    \n",
    "  \n",
    "        "
   ]
  },
  {
   "cell_type": "code",
   "execution_count": 22,
   "metadata": {},
   "outputs": [
    {
     "name": "stdout",
     "output_type": "stream",
     "text": [
      "1.4142135623730950488016887242096980785696718753769480731766797379907324784621070388503875343276415727\n"
     ]
    }
   ],
   "source": [
    "sqrt2() #Call function above to calculate the square root of two t 100 decimal places."
   ]
  },
  {
   "cell_type": "markdown",
   "metadata": {},
   "source": [
    "## 1.3 REFERENCES\n",
    "\n",
    "The following references are listed for the research of TASK 1 \n",
    "\n",
    "<br/>\n",
    "[Ref 1.1]: (https://en.wikipedia.org/wiki/Methods_of_computing_square_roots/ \"Methods of computing square roots\")\n",
    "\n",
    "[Ref:1.2]: (https://medium.com/@surajregmi/how-to-calculate-the-square-root-of-a-number-newton-raphson-method-f8007714f64 \"How to Calculate the Square Root of a Number? — Newton-Raphson Method\")\n",
    "\n",
    "[Ref:1.3]: (https://opentextbc.ca/calculusv1openstax/chapter/newtons-method/ \"Newton’s Method\")\n",
    "\n",
    "[Ref:1.4]: (https://realpython.com/python-square-root-function/ \"The Python Square Root Function\")\n",
    "\n",
    "[Ref:1.5]: (https://www.geeksforgeeks.org/setting-precision-in-python-using-decimal-module/amp/?ref=rp \"Setting Precision in Python Using Decimal Module\")\n",
    "\n"
   ]
  },
  {
   "cell_type": "markdown",
   "metadata": {},
   "source": [
    "# 2. TASK 2\n",
    "\n",
    "The Chi-squared test for independence is a statistical\n",
    "hypothesis test like a t-test. It is used to analyse whether two categorical variables\n",
    "are independent. The Wikipedia article gives the table below as an example [4],\n",
    "stating the Chi-squared value based on it is approximately 24.6. Use scipy.stats\n",
    "to verify this value and calculate the associated p value. You should include a short\n",
    "note with references justifying your analysis in a markdown cell.\n",
    "\n",
    "\n",
    "||A|B|C|D|Total|\n",
    "|-|-|-|-|-|-|\n",
    "|White Collar|90|60|104|95|349|\n",
    "|Blue Collar|30|50|51|20|151|\n",
    "|No Collar|30|40|45|35|150|\n",
    "|Total|150|150|200|150|650|\n",
    "\n",
    "\n",
    "\n",
    "## 2.1 RESEARCH\n",
    "\n",
    "The Chi-squared test for independence is a statistical hypothesis test for analysing whether two categorical variables are independent of each other. [[Ref:2.1]]  First of all the hypotheses between the two categorical variables is established. \n",
    "\n",
    "It could be for example that the number of categorical variable-X will depend on the the variable-Y. There will be the NULL hypotheses that states that there is no dependency between the two categorical variables variable-X and variable-Y. \n",
    "\n",
    "[Ref:2.1]: https://en.wikipedia.org/wiki/Chi-squared_test#cite_note-Pearson1900-1 \"Chi-squared test\"\n",
    "\n",
    "\n",
    "An example of where a Chi-squared test could be performed is on a class of students that either passed or failed a course, is passing or failing the course dependent on attending the course. The data in the table below gives the pass/fail versus the attendance statistics. [[Ref:2.2]] \n",
    "\n",
    "[Ref:2.2]: https://www.ling.upenn.edu/~clight/chisquared.htm \"Tutorial: Pearson's Chi-square Test for Independence\"\n",
    "\n",
    "\n",
    "||Pass|Fail|\n",
    "|------|------|------|\n",
    "|Attended|25|6|\n",
    "|Skipped|8|15|\n",
    "\n",
    "The categorical variables in this example are \n",
    "\n",
    "* Exam Result\n",
    "* Attendance.\n",
    "\n",
    "The categorial variable data for the Chi-squared test has to be counted not percentage and the data can't be divided using high or low marks it has to be either passed or fail in this example.\n",
    "\n",
    "The NULL hypotheses in this case is the exam result is not dependent on attendance of the course in other words the two categorical variables are independent of each other.\n",
    "\n",
    "The Chi-squared tests compares the observed data in the table above to the expected data if the variables were independent. If the observed data doesn't fit the model of the expected data then this increases the likehood that the variables are dependent on one another and the NULL hypotheses can be rejected.\n",
    "\n",
    "The degrees of freedom ($DF$) tell us how many numbers in the grid are independent. For a Chi-square grid, the degrees of freedom can be said to be the number of cells you need to fill in before, given the totals in the margins. \n",
    "\n",
    "The degrees of freedom for a Chi-squared grid are equal to the number of rows minus one times the number of columns minus one that is, (R-1)*(C-1). In the class example above, the degrees of independence are therefore (2-1)*(2-1), or 1! \n",
    "\n",
    "Once the Chi-squared value is calculated, you use this number and the degrees of freedom to calculate the probability, or $\\rho-value$, of independence. \n",
    "\n",
    "The observed class statistics below is given including totals.\n",
    "\n",
    "||Pass|Fail|Total|\n",
    "|------|------|------|------|\n",
    "|Attended|25|6|31|\n",
    "|Skipped|8|15|23|\n",
    "|Total|23|21|54|\n",
    "\n",
    "\n",
    "We can calculate the expected value for each cell using the following formula below. \n",
    "\n",
    "\n",
    "<br/>\n",
    "\n",
    "$$E=\\dfrac{Total_R \\times Total_C}{Total}$$\n",
    "\n",
    "<br/>\n",
    "\n",
    "The first value in Row 1 Column 1 is\n",
    "\n",
    "<br/>\n",
    "\n",
    "$$E = \\dfrac{31 \\times 33}{54}$$\n",
    "\n",
    "<br/>\n",
    "\n",
    "$$E = 18.95$$\n",
    "\n",
    "<br/>\n",
    "\n",
    "Each cell's **expected** value is therefore calculated using the formula above. The **expected** values assuming the two categorical variables are independent is given in the table below.\n",
    "\n",
    "\n",
    "||Pass|Fail|Total|\n",
    "|------|------|------|------|\n",
    "|Attended|18.95|12.05|31|\n",
    "|Skipped|14.05|8.95|23|\n",
    "|Total|23|21|54|\n",
    "\n",
    "<br/>\n",
    "Once the expected table values are calculated the Chi-squared value is calculated using the following formula below\n",
    "\n",
    "$$ X^2 = \\sum_{i=1}^{n} \\dfrac {(O_i - E_i)^2}{E_i} $$\n",
    "<br/>\n",
    "$$ X^2 = \\dfrac{(25 - 18.95)^2}{18.95} + \\dfrac{(6 - 12.06)^2}{12.06} + \\dfrac{(8 - 14.06)^2}{14.06} + \\dfrac{(15 - 8.95)^2}{8.95} $$\n",
    "<br/>\n",
    "$$ X^2 = 11.68 $$\n",
    "\n",
    "#### $\\rho-value$\n",
    "\n",
    "The $\\rho-value$ is the probability of obtaining test results at least as extreme as the results observed, under the assumption that the NULL hypothesis is correct. This can be calculated by a $\\rho-value$ [[Ref: 2.3]] \n",
    "\n",
    "[Ref: 2.3]: https://en.wikipedia.org/wiki/P-value \"Wikipedia P-value\"\n",
    "\n",
    "The $\\rho-value$ can be calculated by looking up a table or by using a $\\rho-value$ calculator.[[Ref: 2.4]] We will see in the next section how the $\\rho-value$ is calculated using Python.\n",
    "\n",
    "[Ref: 2.4]: https://www.mathsisfun.com/data/chi-square-calculator.html \"Chi-Square Calculator\"\n",
    "\n",
    "The following values are entered in to the $\\rho-value$ calculator and the results are given below.\n",
    "\n",
    "$$ X^2 = 11.68$$\n",
    "\n",
    "$$DF = 1$$\n",
    "\n",
    "$$\\rho-value = 0.000631756$$\n",
    "<br/>\n",
    "The $=\\rho-value$ is given as **0.000631756** . This probabably means that if the distrbution of values were by chance we would only see this kind of distribution of values **0.006%** of the time. The typical threshold to conside categorical variables are independent is a probably of **0.05** the calculated probability of 0.0006 is considerably lower that the threshold of 0.05 or 5%. \n",
    "\n",
    "Based on this extreamly low probability we can reject the NULL hypothesis and state that the distribution of the values of the two categorical variables are indeed dependent on each other. In other words you are more likely to pass the course if you have attended the clases.\n",
    "\n",
    "\n",
    "\n"
   ]
  },
  {
   "cell_type": "markdown",
   "metadata": {},
   "source": [
    "## 2.2 DEVELOPMENT\n",
    "\n",
    "To verify the Chi-squared test from the data given in the question the following reference was used to do a statistical analysis on the number you get when throwing a dice using Python scipy.stats [[Ref: 2.5]]\n",
    "\n",
    "[Ref: 2.5]: https://towardsdatascience.com/running-chi-square-tests-in-python-with-die-roll-data-b9903817c51b \"Running Chi-Square Tests with Die Roll Data in Python\""
   ]
  },
  {
   "cell_type": "code",
   "execution_count": 40,
   "metadata": {},
   "outputs": [
    {
     "name": "stdout",
     "output_type": "stream",
     "text": [
      "[[ 90  60 104  95]\n",
      " [ 30  50  51  20]\n",
      " [ 30  40  45  35]]\n"
     ]
    }
   ],
   "source": [
    "import numpy as np #Import Numpy\n",
    "\n",
    "# The first step is to take the data and make three arrays with four of the collar colour categories from the samples A to D\n",
    "\n",
    "white_collar = [90, 60, 104, 95]\n",
    "blue_collar = [30, 50, 51, 20]\n",
    "no_collar = [30, 40, 45, 35]\n",
    "\n",
    "collars = np.array([white_collar, blue_collar, no_collar]) #Construct the numpy array with the three arrays \n",
    "\n",
    "print(collars) #The numpy array is printed to the screen for verification\n"
   ]
  },
  {
   "cell_type": "code",
   "execution_count": 41,
   "metadata": {},
   "outputs": [
    {
     "data": {
      "text/plain": [
       "(24.5712028585826,\n",
       " 0.0004098425861096696,\n",
       " 6,\n",
       " array([[ 80.53846154,  80.53846154, 107.38461538,  80.53846154],\n",
       "        [ 34.84615385,  34.84615385,  46.46153846,  34.84615385],\n",
       "        [ 34.61538462,  34.61538462,  46.15384615,  34.61538462]]))"
      ]
     },
     "execution_count": 41,
     "metadata": {},
     "output_type": "execute_result"
    }
   ],
   "source": [
    "from scipy import stats #From the Python scipy package import the stastices module stats\n",
    "\n",
    "stats.chi2_contingency(collars) # Run the Chi-squared calculation of the Numpy array this will calculate the Chi-squared value, p-value and the Degree of Freedom\n",
    "\n"
   ]
  },
  {
   "cell_type": "code",
   "execution_count": 42,
   "metadata": {},
   "outputs": [
    {
     "name": "stdout",
     "output_type": "stream",
     "text": [
      "\n",
      "\n",
      "### Chi2 Stat ###\n",
      "### 24.6\n",
      "\n",
      "\n",
      "### Degrees of Freedom ###\n",
      "### 6 ###\n",
      "\n",
      "\n",
      "### P-Value ###\n",
      "### 0.00041 ###\n",
      "\n",
      "\n",
      "### Expected Values ###\n",
      "[[ 80.54  80.54 107.38  80.54]\n",
      " [ 34.85  34.85  46.46  34.85]\n",
      " [ 34.62  34.62  46.15  34.62]]\n",
      "\n",
      "\n"
     ]
    }
   ],
   "source": [
    "# The output above can be formatted to produce a more legible output by the following Python code.\n",
    "\n",
    "chi2_val, p_val, df, exp_vals = stats.chi2_contingency(collars)\n",
    "\n",
    "print(\"\\n\")\n",
    "print(\"### Chi2 Stat ###\")\n",
    "print(f\"### {chi2_val:.1f}\")\n",
    "print(\"\\n\")\n",
    "print(\"### Degrees of Freedom ###\")\n",
    "print(f\"### {df} ###\")\n",
    "print(\"\\n\")\n",
    "print(\"### P-Value ###\")\n",
    "print(f\"### {p_val:.5f} ###\")\n",
    "print(\"\\n\")\n",
    "print(\"### Expected Values ###\")\n",
    "print(np.around(exp_vals, decimals=2)) # Numpy 4x3 array rounded to the nearest two decimal places\n",
    "print(\"\\n\")\n"
   ]
  },
  {
   "cell_type": "markdown",
   "metadata": {},
   "source": [
    "From the output above we can see that the following values are calculated $\\chi^2$, $\\rho-value$ and Degrees of Freedom ($DF$)\n",
    "\n",
    "$\\chi^2$ = 24.6<br/>\n",
    "$\\rho-value$ = 0.00041<br/>\n",
    "$DF$ = 6\n",
    "\n",
    "<br/>\n",
    "The expected array values if the variables were independent that are calculated from the Python code are worked in to the original table below.\n",
    "\n",
    "||A|B|C|D|Total|\n",
    "|-|-|-|-|-|-|\n",
    "|White Collar|80.54|80.54|107.38|80.54|349|\n",
    "|Blue Collar|34.85|34.85|34.85|34.85|151|\n",
    "|No Collar|34.62|34.62|46.15|34.62|150|\n",
    "|Total|150|150|200|150|650|\n",
    "\n",
    "The original table is given below for comparsion.\n",
    "\n",
    "\n",
    "||A|B|C|D|Total|\n",
    "|-|-|-|-|-|-|\n",
    "|White Collar|90|60|104|95|349|\n",
    "|Blue Collar|30|50|51|20|151|\n",
    "|No Collar|30|40|45|35|150|\n",
    "|Total|150|150|200|150|650|\n",
    "\n",
    "\n",
    "The test for independence is the probably that the $\\chi^2$ value 24.6 or higher is a probability $\\rho-value$ 0.00041. Or if these categorical variables were independent this distribution would occur 0.041% of the time which is extremely low, the typical threshold for variable independency is 5%. Therefore we would have to reject the NULL hypothesis that the values for the variables are independent, therefore the value of one category of variables dependents on the other category.\n",
    "\n",
    "        "
   ]
  },
  {
   "cell_type": "markdown",
   "metadata": {},
   "source": [
    "## 2.3  REFERENCES\n",
    "\n",
    "The following references are listed for TASK 2 below\n",
    "\n",
    "<br/>\n",
    "[Ref: 2.1] (https://en.wikipedia.org/wiki/Chi-squared_test#cite_note-Pearson1900-1 \"Chi-squared test\")\n",
    "\n",
    "[Ref: 2.2] (https://www.ling.upenn.edu/~clight/chisquared.htm \"Tutorial: Pearson's Chi-square Test for Independence\")\n",
    "\n",
    "[Ref: 2.3] (https://en.wikipedia.org/wiki/P-value \"$\\rho-value$\")\n",
    "\n",
    "[Ref: 2.4] (https://www.mathsisfun.com/data/chi-square-calculator.html \"Chi-Square Calculator\")\n",
    "\n",
    "[Ref: 2.5]: (https://towardsdatascience.com/running-chi-square-tests-in-python-with-die-roll-data-b9903817c51b \"Running Chi-Square Tests with Die Roll Data in Python\")\n",
    "<br/>"
   ]
  },
  {
   "cell_type": "markdown",
   "metadata": {},
   "source": [
    "## 3. TASK 3\n",
    "\n",
    "The standard deviation of an array of numbers x is\n",
    "calculated using numpy as np.sqrt(np.sum((x - np.mean(x))**2)/len(x)) .\n",
    "However, Microsoft Excel has two different versions of the standard deviation\n",
    "calculation, STDEV.P and STDEV.S . The STDEV.P function performs the above\n",
    "calculation but in the STDEV.S calculation the division is by len(x)-1 rather\n",
    "than len(x) . Research these Excel functions, writing a note in a Markdown cell\n",
    "about the difference between them. Then use numpy to perform a simulation\n",
    "demonstrating that the STDEV.S calculation is a better estimate for the standard\n",
    "deviation of a population when performed on a sample. Note that part of this task\n",
    "is to figure out the terminology in the previous sentence.\n",
    "\n",
    "STDEV.P is the standard deviation of the entire population or the entire number of samples in a dataset. STDEV.S is the standard deviation of a sample of the population of a subset of the given samples.\n",
    "\n",
    "The formula for STDEV.P is below\n",
    "\n",
    "The formula for STDEV.S is below\n",
    "\n"
   ]
  },
  {
   "cell_type": "code",
   "execution_count": 43,
   "metadata": {},
   "outputs": [],
   "source": [
    "#Create array\n",
    "#heights = np.random.randint(0, 86, 100)\n",
    "#pop.sort()\n",
    "#print(pop)\n",
    "#print(f\"Values range from a minimum of {pop[0]} to {pop[-1]}, with a mean of {sum(pop)/len(pop):.1f}, and a population standard deviation of {np.std(pop):.1f}.\")\n",
    "\n"
   ]
  },
  {
   "cell_type": "code",
   "execution_count": null,
   "metadata": {},
   "outputs": [],
   "source": []
  }
 ],
 "metadata": {
  "kernelspec": {
   "display_name": "Python 3",
   "language": "python",
   "name": "python3"
  },
  "language_info": {
   "codemirror_mode": {
    "name": "ipython",
    "version": 3
   },
   "file_extension": ".py",
   "mimetype": "text/x-python",
   "name": "python",
   "nbconvert_exporter": "python",
   "pygments_lexer": "ipython3",
   "version": "3.7.4"
  }
 },
 "nbformat": 4,
 "nbformat_minor": 2
}
