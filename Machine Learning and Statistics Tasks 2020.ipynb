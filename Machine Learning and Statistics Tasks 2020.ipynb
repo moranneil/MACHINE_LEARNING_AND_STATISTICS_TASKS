{
 "cells": [
  {
   "cell_type": "markdown",
   "metadata": {},
   "source": [
    "# MACHINE LEARNING AND STATISTICS TASKS\n",
    "\n",
    "## TASK 1\n",
    "\n",
    "Write a Python function called sqrt2 that calculates and\n",
    "prints to the screen the square root of 2 to 100 decimal places. Your code should\n",
    "not depend on any module from the standard library1 or otherwise. You should\n",
    "research the task first and include references and a description of your algorithm.\n",
    "\n",
    "### RESEARCH\n",
    "\n",
    "The square root of a number $S$ is a number when multiplied by itself yields the number $S$.\n",
    "\n",
    "The most common methods to calculating the square root of a number are iterative, the principle involves two steps below:\n",
    "\n",
    "* Find a suitable starting seed value or guess.\n",
    "* Refine this value using an iterative calculation until a criteria is met to terminate.\n",
    "\n",
    "#### Initial Seed Value Estimation\n",
    "\n",
    "The initial seed value must be a positive non-zero number, it should be between 1 and $S$ the number we are trying to find the square root off. There are many methods of estimating this number because the better the estimate the less iterations the algorithm will have to perform to find the square root.\n",
    "\n",
    "For estimating the seed value $x$ for approximating the square root of $ S = 2$ and the fact that the number $x$ should be 0 < $x$ < 2 then we will choose 1. \n",
    "\n",
    "\n",
    "The most common of this type of methods is the Newton Rampson approximation. This uses a mathematical formula to approximate the square root of a number this formula is run many times or iterations to get the square root approximation. The formula is given below.\n",
    "\n",
    "\n",
    "\n",
    "Reference: https://medium.com/@surajregmi/how-to-calculate-the-square-root-of-a-number-newton-raphson-method-f8007714f64\n",
    "\n",
    "To get the answer required the Python math function is used below to get the answer we need to approximate.\n",
    "\n",
    "\n",
    "\n",
    "\n",
    "From the question above the task involved writing a program to get the square root of the number two without using any of the Python library functions such as math.sqrt. The math.sqrt function can be used to check the answer to the final solution. \n",
    "\n",
    "Reference: https://realpython.com/python-square-root-function/\n",
    "\n",
    "To calculate the sqrt root of a number to a certain number of decimal places the function getcontext() can be used to set the value from defualt 28 decimal to the desired number of decimal places in this case 100\n",
    "\n",
    "https://www.geeksforgeeks.org/setting-precision-in-python-using-decimal-module/amp/?ref=rp\n",
    "\n"
   ]
  },
  {
   "cell_type": "code",
   "execution_count": 1,
   "metadata": {},
   "outputs": [],
   "source": [
    "import math as m # Import Python Math library as m\n",
    " \n",
    "m.sqrt(2) #Run the function sqrt from the math library passing in 2"
   ]
  },
  {
   "cell_type": "markdown",
   "metadata": {},
   "source": [
    "The Python sqrt() function without changing the number of decimal places or precision of the output only gives the answer to 16 demimal places. To change this to 100 decimal places the following code can be run"
   ]
  },
  {
   "cell_type": "code",
   "execution_count": 2,
   "metadata": {},
   "outputs": [],
   "source": [
    "from decimal import * # Import decimal function\n",
    "getcontext().prec = 101 #set overall to 101 to get 100 decimal places after the decimal point\n",
    "ans = Decimal(2).sqrt() ## Run the Decimal function on sqrt(2) and assigned it to ans\n",
    "print(\"The answer we need to approximate is:\\n\",ans) # Print the Decimal answer\n"
   ]
  },
  {
   "cell_type": "markdown",
   "metadata": {},
   "source": [
    "There is an issue with floating point numbers if you assign the test variable to the answer we obtained with the Python maths function and print that variable we only get part of the variable i.e to 16 decimal places."
   ]
  },
  {
   "cell_type": "code",
   "execution_count": 3,
   "metadata": {},
   "outputs": [],
   "source": [
    "test = 1.4142135623730950488016887242096980785696718753769480731766797379907324784621070388503875343276415727"
   ]
  },
  {
   "cell_type": "code",
   "execution_count": 4,
   "metadata": {},
   "outputs": [
    {
     "name": "stdout",
     "output_type": "stream",
     "text": [
      "1.4142135623730951\n"
     ]
    }
   ],
   "source": [
    "print(test)"
   ]
  },
  {
   "cell_type": "markdown",
   "metadata": {},
   "source": [
    "To get a square root of a number to 100 decimal places you need to multiple the number by 10 ** 200 this will yield an integer variable for usingin the calcaluation\n",
    "\n",
    "https://stackoverflow.com/questions/64295245/how-to-get-the-square-root-of-a-number-to-100-decimal-places-without-using-any-l"
   ]
  },
  {
   "cell_type": "markdown",
   "metadata": {},
   "source": [
    "Newton Rampson approximation formula is given by the following formula\n",
    "\n",
    "guess = (guess + $S$/guess)/2\n",
    "\n",
    "This calculation is run repeatly until the difference between the original number $S$ and the guess squared or guess^2 is less that 0.\n",
    "\n",
    "The python code for this formula for this is given below\n"
   ]
  },
  {
   "cell_type": "code",
   "execution_count": 5,
   "metadata": {},
   "outputs": [],
   "source": [
    "def sqrt2():\n",
    "    \n",
    "    x = 2 #Number that we want to find the square root off\n",
    "    \n",
    "    s = x * 10 ** 200 #This is a large enough integer so when the square root is calculated its is 100 decimal places\n",
    "    \n",
    "    guess = s//2 #This is the initial guess\n",
    "    \n",
    "    while s - (guess**2) < 0: #while the guess or approximation squared less the original number is greater than zero continue with the approximation calculation\n",
    "        guess = (guess + s//guess)//2\n",
    "    \n",
    "    guess = str(guess) # Convert varible to string\n",
    "    print(guess[0]+\".\"+guess[1:]) # Print out string with dot in the correct place\n",
    "    \n",
    "  \n",
    "        "
   ]
  },
  {
   "cell_type": "code",
   "execution_count": 6,
   "metadata": {},
   "outputs": [
    {
     "name": "stdout",
     "output_type": "stream",
     "text": [
      "1.4142135623730950488016887242096980785696718753769480731766797379907324784621070388503875343276415727\n"
     ]
    }
   ],
   "source": [
    "sqrt2()"
   ]
  },
  {
   "cell_type": "markdown",
   "metadata": {},
   "source": []
  },
  {
   "cell_type": "code",
   "execution_count": null,
   "metadata": {},
   "outputs": [],
   "source": []
  }
 ],
 "metadata": {
  "kernelspec": {
   "display_name": "Python 3",
   "language": "python",
   "name": "python3"
  },
  "language_info": {
   "codemirror_mode": {
    "name": "ipython",
    "version": 3
   },
   "file_extension": ".py",
   "mimetype": "text/x-python",
   "name": "python",
   "nbconvert_exporter": "python",
   "pygments_lexer": "ipython3",
   "version": "3.7.4"
  }
 },
 "nbformat": 4,
 "nbformat_minor": 2
}
